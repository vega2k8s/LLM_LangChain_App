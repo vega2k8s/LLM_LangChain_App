{
 "cells": [
  {
   "cell_type": "code",
   "execution_count": 1,
   "id": "cfb9203e",
   "metadata": {},
   "outputs": [
    {
     "name": "stdout",
     "output_type": "stream",
     "text": [
      "AI\n"
     ]
    }
   ],
   "source": [
    "import os\n",
    "from dotenv import load_dotenv\n",
    "\n",
    "load_dotenv()\n",
    "GOOGLE_API_KEY = os.getenv(\"GOOGLE_API_KEY\")\n",
    "print(GOOGLE_API_KEY[:2])"
   ]
  },
  {
   "cell_type": "code",
   "execution_count": 2,
   "id": "0977b113",
   "metadata": {},
   "outputs": [
    {
     "name": "stdout",
     "output_type": "stream",
     "text": [
      " Google Gemini Response:\n",
      "LangChain은 대규모 언어 모델(LLM)을 애플리케이션에 통합하기 위한 프레임워크입니다.  단순히 LLM을 호출하는 것 이상으로,  다양한 기능을 제공하여 LLM 기반 애플리케이션 개발을 더욱 효율적이고 강력하게 만들어줍니다.  핵심 기능은 다음과 같습니다.\n",
      "\n",
      "* **모듈성:** LangChain은 LLM, 프로세스, 메모리 등을 모듈로 분리하여 개발자가 각 구성 요소를 독립적으로 선택하고 조합할 수 있도록 합니다.  다양한 LLM(OpenAI, Hugging Face 등)과 데이터 소스를 손쉽게 통합할 수 있습니다.\n",
      "\n",
      "* **체인(Chains):** 여러 LLM 호출이나 다른 구성 요소를 순차적으로 또는 병렬적으로 연결하여 복잡한 작업을 수행할 수 있도록 합니다.  예를 들어, 질문에 대한 답변을 찾기 위해 검색 엔진을 사용하고, 그 결과를 LLM에 전달하여 요약하거나 질문에 답하는 체인을 만들 수 있습니다.\n",
      "\n",
      "* **인덱싱:**  외부 데이터 소스(문서, 데이터베이스 등)를 인덱싱하여 LLM이 해당 데이터를 효율적으로 사용할 수 있도록 합니다.  LLM이 외부 데이터에 접근하여 더욱 정확하고 풍부한 응답을 생성할 수 있도록 지원합니다.\n",
      "\n",
      "* **메모리:**  LLM과의 이전 상호 작용을 기억하여 컨텍스트를 유지하고, 일관성 있는 대화를 가능하게 합니다.  대화형 애플리케이션 개발에 필수적인 기능입니다.\n",
      "\n",
      "* **에이전트(Agents):**  LLM이 외부 도구(웹 검색, 계산기 등)를 사용하여 작업을 수행할 수 있도록 합니다.  LLM이 스스로 필요한 정보를 찾고, 적절한 도구를 선택하여 문제를 해결하는 자율적인 시스템을 구축할 수 있습니다.\n",
      "\n",
      "**LangChain의 장점:**\n",
      "\n",
      "* **개발 속도 향상:**  모듈식 설계와 다양한 기능으로 LLM 기반 애플리케이션 개발 시간을 단축합니다.\n",
      "* **유연성:**  다양한 LLM, 데이터 소스, 도구를 통합할 수 있습니다.\n",
      "* **확장성:**  복잡한 애플리케이션을 구축할 수 있도록 지원합니다.\n",
      "* **재사용성:**  개발된 모듈과 체인을 다른 프로젝트에 재사용할 수 있습니다.\n",
      "\n",
      "**LangChain의 단점:**\n",
      "\n",
      "* **복잡성:**  모듈과 기능이 많아 처음 접하는 개발자에게는 다소 복잡하게 느껴질 수 있습니다.\n",
      "* **학습 곡선:**  LangChain을 효과적으로 사용하려면 특정 수준의 프로그래밍 지식과 LLM에 대한 이해가 필요합니다.\n",
      "\n",
      "\n",
      "요약하자면, LangChain은 LLM을 활용한 애플리케이션 개발을 위한 강력한 도구입니다.  모듈성과 다양한 기능을 통해 복잡하고 강력한 LLM 기반 시스템을 효율적으로 구축할 수 있지만,  그만큼 학습 곡선이 존재한다는 점을 인지해야 합니다.\n"
     ]
    }
   ],
   "source": [
    "from langchain_google_genai import ChatGoogleGenerativeAI\n",
    "from langchain_core.prompts import ChatPromptTemplate\n",
    "    \n",
    "# API 키 설정\n",
    "# os.environ[\"GOOGLE_API_KEY\"] = \"your-google-api-key\"\n",
    "\n",
    "# 모델 초기화\n",
    "llm = ChatGoogleGenerativeAI(\n",
    "    model=\"gemini-1.5-flash\",  # 또는 \"gemini-pro-vision\"\n",
    "    temperature=0.3    \n",
    ")\n",
    "\n",
    "# 프롬프트 설정\n",
    "prompt = ChatPromptTemplate.from_messages([\n",
    "    (\"system\", \"당신은 AI 전문가입니다다.\"),\n",
    "    (\"human\", \"{topic}은 무엇인가요?\")\n",
    "])\n",
    "\n",
    "# 체인 실행\n",
    "chain = prompt | llm\n",
    "response = chain.invoke({\"topic\": \"LangChain\"})\n",
    "\n",
    "print(\" Google Gemini Response:\")\n",
    "print(response.content)"
   ]
  }
 ],
 "metadata": {
  "kernelspec": {
   "display_name": "langchain-basic-kGdHTiMZ-py3.12",
   "language": "python",
   "name": "python3"
  },
  "language_info": {
   "codemirror_mode": {
    "name": "ipython",
    "version": 3
   },
   "file_extension": ".py",
   "mimetype": "text/x-python",
   "name": "python",
   "nbconvert_exporter": "python",
   "pygments_lexer": "ipython3",
   "version": "3.12.7"
  }
 },
 "nbformat": 4,
 "nbformat_minor": 5
}
