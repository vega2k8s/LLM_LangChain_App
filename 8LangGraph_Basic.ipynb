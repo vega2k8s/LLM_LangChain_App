{
 "cells": [
  {
   "cell_type": "code",
   "execution_count": 1,
   "id": "15381961",
   "metadata": {},
   "outputs": [
    {
     "name": "stdout",
     "output_type": "stream",
     "text": [
      "sk\n"
     ]
    }
   ],
   "source": [
    "import os\n",
    "from dotenv import load_dotenv\n",
    "\n",
    "load_dotenv()\n",
    "OPENAI_API_KEY = os.getenv(\"OPENAI_API_KEY\")\n",
    "print(OPENAI_API_KEY[:2])"
   ]
  },
  {
   "cell_type": "code",
   "execution_count": null,
   "id": "95c6cb53",
   "metadata": {},
   "outputs": [],
   "source": [
    "from langgraph.graph import StateGraph\n",
    "from langchain_openai import ChatOpenAI\n",
    "\n",
    "# LLM 모델 설정\n",
    "llm = ChatOpenAI(model=\"gpt-3.5-turbo-0125\")\n",
    "\n",
    "# 첫 번째 AI 에이전트: 질문 분석 및 배경 정보 생성\n",
    "def agent_1(state):\n",
    "    \"\"\"사용자의 질문을 분석하고 핵심 키워드와 배경 정보를 추가\"\"\"\n",
    "    query = state[\"query\"]\n",
    "    \n",
    "    # 질문에서 핵심 키워드 추출\n",
    "    keywords = llm.invoke(f\"질문: {query}\\n이 질문에서 핵심 키워드를 3~5개 추출해 주세요.\")\n",
    "    \n",
    "    # 질문과 관련된 배경 정보 제공\n",
    "    background_info = llm.invoke(f\"질문: {query}\\n이 질문을 이해하는 데 도움이 될 만한 추가 정보를 제공해 주세요.\")\n",
    "\n",
    "    print(f\"\\n[Agent 1] 원본 질문: {query}\")\n",
    "    print(f\"[Agent 1] 핵심 키워드: {keywords}\")\n",
    "    print(f\"[Agent 1] 배경 정보: {background_info}\\n\")\n",
    "\n",
    "    return {\"refined_query\": query, \"keywords\": keywords, \"background_info\": background_info}\n",
    "\n",
    "# 두 번째 AI 에이전트: 키워드 및 배경 정보를 활용하여 답변 생성\n",
    "def agent_2(state):\n",
    "    \"\"\"Agent 1이 제공한 정보를 기반으로 보다 정교한 답변 생성\"\"\"\n",
    "    refined_query = state[\"refined_query\"]\n",
    "    keywords = state[\"keywords\"]\n",
    "    background_info = state[\"background_info\"]\n",
    "\n",
    "    # Agent 1이 제공한 정보를 활용하여 최종 답변 생성\n",
    "    final_response = llm.invoke(\n",
    "        f\"질문: {refined_query}\\n\"\n",
    "        f\"핵심 키워드: {keywords}\\n\"\n",
    "        f\"배경 정보: {background_info}\\n\"\n",
    "        f\"위 정보를 바탕으로 질문에 대해 깊이 있는 답변을 작성해 주세요.\"\n",
    "    )\n",
    "\n",
    "    print(f\"[Agent 2] 최종 답변 생성 완료\\n\")\n",
    "    \n",
    "    return {\"final_answer\": final_response}\n",
    "\n",
    "# LangGraph Workflow 설정\n",
    "workflow = StateGraph(dict)  \n",
    "\n",
    "# 그래프의 시작점 정의\n",
    "workflow.add_node(\"agent_1\", agent_1)\n",
    "workflow.add_node(\"agent_2\", agent_2)\n",
    "\n",
    "# 실행 흐름(Edges) 정의\n",
    "workflow.set_entry_point(\"agent_1\")  # Agent 1이 먼저 실행됨\n",
    "workflow.add_edge(\"agent_1\", \"agent_2\")  # Agent 1 -> Agent 2\n",
    "\n",
    "# 실행 엔진 빌드\n",
    "app = workflow.compile()\n",
    "\n",
    "# 실행 예제\n",
    "query = \"LangGraph는 무엇이며, LangChain과 어떤 차이점이 있나요? 그리고 LangGraph를 사용해야 하는 이유는 무엇인가요?\"\n",
    "state = {\"query\": query}\n",
    "result = app.invoke(state)\n",
    "\n",
    "# 최종 결과 출력\n",
    "print(\"\\n🔹 [AI 최종 답변]:\")\n",
    "print(result[\"final_answer\"])\n",
    "\n"
   ]
  }
 ],
 "metadata": {
  "kernelspec": {
   "display_name": "langchain-basic-kGdHTiMZ-py3.12",
   "language": "python",
   "name": "python3"
  },
  "language_info": {
   "codemirror_mode": {
    "name": "ipython",
    "version": 3
   },
   "file_extension": ".py",
   "mimetype": "text/x-python",
   "name": "python",
   "nbconvert_exporter": "python",
   "pygments_lexer": "ipython3",
   "version": "3.12.7"
  }
 },
 "nbformat": 4,
 "nbformat_minor": 5
}
