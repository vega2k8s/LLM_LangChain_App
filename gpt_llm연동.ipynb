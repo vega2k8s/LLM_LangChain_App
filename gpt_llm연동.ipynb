{
 "cells": [
  {
   "cell_type": "code",
   "execution_count": 2,
   "id": "c5434d38",
   "metadata": {},
   "outputs": [
    {
     "name": "stdout",
     "output_type": "stream",
     "text": [
      "Hello LangChain ChatGPT\n"
     ]
    }
   ],
   "source": [
    "print('Hello LangChain ChatGPT')"
   ]
  },
  {
   "cell_type": "code",
   "execution_count": 3,
   "id": "5c4b78d5",
   "metadata": {},
   "outputs": [],
   "source": [
    "import os\n",
    "from dotenv import load_dotenv\n",
    "from langchain_core.prompts import ChatPromptTemplate\n",
    "from langchain_openai import ChatOpenAI \n",
    "\n",
    "load_dotenv()\n",
    "OPENAI_API_KEY = os.getenv(\"OPENAI_API_KEY\")\n",
    "#print(OPENAI_API_KEY)"
   ]
  },
  {
   "cell_type": "code",
   "execution_count": 6,
   "id": "70202ee3",
   "metadata": {},
   "outputs": [
    {
     "name": "stdout",
     "output_type": "stream",
     "text": [
      "input_variables=['input'] input_types={} partial_variables={} messages=[SystemMessagePromptTemplate(prompt=PromptTemplate(input_variables=[], input_types={}, partial_variables={}, template='당신은 개발자입니다.'), additional_kwargs={}), HumanMessagePromptTemplate(prompt=PromptTemplate(input_variables=['input'], input_types={}, partial_variables={}, template='{input}'), additional_kwargs={})]\n"
     ]
    }
   ],
   "source": [
    "# prompt\n",
    "prompt = ChatPromptTemplate.from_messages(\n",
    "    [ (\"system\", \"당신은 개발자입니다.\") , \n",
    "     (\"human\", \"{input}\") ]\n",
    ")\n",
    "print(prompt)\n",
    "\n",
    "prompt_text = prompt.format(input=\"LangServe는 무엇인가요? 자세하게 설명해주세요\")"
   ]
  },
  {
   "cell_type": "code",
   "execution_count": 11,
   "id": "eff33d46",
   "metadata": {},
   "outputs": [
    {
     "name": "stdout",
     "output_type": "stream",
     "text": [
      "client=<openai.resources.chat.completions.completions.Completions object at 0x000001AC0D2AF140> async_client=<openai.resources.chat.completions.completions.AsyncCompletions object at 0x000001AC0CD36030> root_client=<openai.OpenAI object at 0x000001AC0D2AF950> root_async_client=<openai.AsyncOpenAI object at 0x000001AC0D2AF200> model_name='gpt-4o' temperature=0.7 model_kwargs={} openai_api_key=SecretStr('**********')\n"
     ]
    }
   ],
   "source": [
    "# ChatGPT API를 사용하는 ChatOpenAI 인스턴스 생성\n",
    "llm = ChatOpenAI(\n",
    "    #model=\"gpt-3.5-turbo-0125\",\n",
    "    model=\"gpt-4o\",\n",
    "    temperature=0.7\n",
    ")\n",
    "print(llm)"
   ]
  },
  {
   "cell_type": "code",
   "execution_count": 12,
   "id": "0c1a5303",
   "metadata": {},
   "outputs": [
    {
     "name": "stdout",
     "output_type": "stream",
     "text": [
      "<class 'langchain_core.messages.ai.AIMessage'>\n",
      "content='LangServe는 자연어 처리(NLP)와 관련된 서비스를 제공하는 플랫폼이나 프레임워크일 가능성이 높습니다. 그러나, \"LangServe\"라는 이름의 특정 제품이나 서비스는 일반적으로 널리 알려져 있지 않으며, 따라서 이 이름은 특정 기업이나 프로젝트에서 사용하는 내부 도구일 수도 있습니다. \\n\\n일반적으로, 이름에서 유추할 수 있는 기능들은 다음과 같습니다:\\n\\n1. **언어 처리 기능**: LangServe는 텍스트 분석, 번역, 감정 분석, 요약 등 다양한 자연어 처리 기능을 제공할 수 있습니다.\\n\\n2. **API 서비스**: 언어 처리 기능을 API 형태로 제공하여 개발자들이 쉽게 통합할 수 있도록 돕는 역할을 할 수 있습니다.\\n\\n3. **확장성 및 사용자 맞춤형 설정**: 다양한 언어 모델을 지원하거나, 특정 도메인에 맞게 모델을 튜닝할 수 있는 기능을 제공할 수 있습니다.\\n\\n4. **실시간 처리**: 실시간으로 자연어 데이터를 처리하여 결과를 반환하는 기능을 제공할 수 있습니다.\\n\\n5. **통합 지원**: 다른 시스템이나 애플리케이션과 쉽게 통합할 수 있는 API와 SDK를 제공할 수 있습니다.\\n\\nLangServe에 대한 자세한 정보를 원하신다면, 해당 서비스의 공식 웹사이트나 문서를 참고하시거나, 관련된 커뮤니티나 포럼에서 추가적인 정보를 찾아보시는 것이 좋습니다.' additional_kwargs={'refusal': None} response_metadata={'token_usage': {'completion_tokens': 308, 'prompt_tokens': 28, 'total_tokens': 336, 'completion_tokens_details': {'accepted_prediction_tokens': 0, 'audio_tokens': 0, 'reasoning_tokens': 0, 'rejected_prediction_tokens': 0}, 'prompt_tokens_details': {'audio_tokens': 0, 'cached_tokens': 0}}, 'model_name': 'gpt-4o-2024-08-06', 'system_fingerprint': 'fp_07871e2ad8', 'id': 'chatcmpl-BglYo22F0E8q9Kl3KUXFiIuLiFSUT', 'service_tier': 'default', 'finish_reason': 'stop', 'logprobs': None} id='run--12ec68bd-106a-4931-8901-d7ea31defc2e-0' usage_metadata={'input_tokens': 28, 'output_tokens': 308, 'total_tokens': 336, 'input_token_details': {'audio': 0, 'cache_read': 0}, 'output_token_details': {'audio': 0, 'reasoning': 0}}\n",
      "LangServe는 자연어 처리(NLP)와 관련된 서비스를 제공하는 플랫폼이나 프레임워크일 가능성이 높습니다. 그러나, \"LangServe\"라는 이름의 특정 제품이나 서비스는 일반적으로 널리 알려져 있지 않으며, 따라서 이 이름은 특정 기업이나 프로젝트에서 사용하는 내부 도구일 수도 있습니다. \n",
      "\n",
      "일반적으로, 이름에서 유추할 수 있는 기능들은 다음과 같습니다:\n",
      "\n",
      "1. **언어 처리 기능**: LangServe는 텍스트 분석, 번역, 감정 분석, 요약 등 다양한 자연어 처리 기능을 제공할 수 있습니다.\n",
      "\n",
      "2. **API 서비스**: 언어 처리 기능을 API 형태로 제공하여 개발자들이 쉽게 통합할 수 있도록 돕는 역할을 할 수 있습니다.\n",
      "\n",
      "3. **확장성 및 사용자 맞춤형 설정**: 다양한 언어 모델을 지원하거나, 특정 도메인에 맞게 모델을 튜닝할 수 있는 기능을 제공할 수 있습니다.\n",
      "\n",
      "4. **실시간 처리**: 실시간으로 자연어 데이터를 처리하여 결과를 반환하는 기능을 제공할 수 있습니다.\n",
      "\n",
      "5. **통합 지원**: 다른 시스템이나 애플리케이션과 쉽게 통합할 수 있는 API와 SDK를 제공할 수 있습니다.\n",
      "\n",
      "LangServe에 대한 자세한 정보를 원하신다면, 해당 서비스의 공식 웹사이트나 문서를 참고하시거나, 관련된 커뮤니티나 포럼에서 추가적인 정보를 찾아보시는 것이 좋습니다.\n"
     ]
    }
   ],
   "source": [
    "try:\n",
    "    response = llm.invoke(prompt_text)\n",
    "    print(type(response))\n",
    "    print(response)\n",
    "    print(response.content)\n",
    "except Exception as e:\n",
    "    print(f\"오류 발생: {e}\")"
   ]
  }
 ],
 "metadata": {
  "kernelspec": {
   "display_name": "langchain-basic-kGdHTiMZ-py3.12",
   "language": "python",
   "name": "python3"
  },
  "language_info": {
   "codemirror_mode": {
    "name": "ipython",
    "version": 3
   },
   "file_extension": ".py",
   "mimetype": "text/x-python",
   "name": "python",
   "nbconvert_exporter": "python",
   "pygments_lexer": "ipython3",
   "version": "3.12.7"
  }
 },
 "nbformat": 4,
 "nbformat_minor": 5
}
