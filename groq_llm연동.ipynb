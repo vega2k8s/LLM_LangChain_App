{
 "cells": [
  {
   "cell_type": "code",
   "execution_count": 1,
   "id": "c5434d38",
   "metadata": {},
   "outputs": [
    {
     "name": "stdout",
     "output_type": "stream",
     "text": [
      "Hello LangChain\n"
     ]
    }
   ],
   "source": [
    "print('Hello LangChain')"
   ]
  },
  {
   "cell_type": "code",
   "execution_count": null,
   "id": "5c4b78d5",
   "metadata": {},
   "outputs": [],
   "source": [
    "import os\n",
    "from dotenv import load_dotenv\n",
    "from langchain_core.prompts import ChatPromptTemplate\n",
    "from langchain_openai import ChatOpenAI \n",
    "\n",
    "load_dotenv()\n",
    "OPENAI_API_KEY = os.getenv(\"OPENAI_API_KEY\")\n",
    "#print(OPENAI_API_KEY)"
   ]
  },
  {
   "cell_type": "code",
   "execution_count": 12,
   "id": "70202ee3",
   "metadata": {},
   "outputs": [
    {
     "name": "stdout",
     "output_type": "stream",
     "text": [
      "input_variables=['input'] input_types={} partial_variables={} messages=[SystemMessagePromptTemplate(prompt=PromptTemplate(input_variables=[], input_types={}, partial_variables={}, template='당신은 개발자입니다.'), additional_kwargs={}), HumanMessagePromptTemplate(prompt=PromptTemplate(input_variables=['input'], input_types={}, partial_variables={}, template='{input}'), additional_kwargs={})]\n"
     ]
    }
   ],
   "source": [
    "# prompt\n",
    "prompt = ChatPromptTemplate.from_messages(\n",
    "    [ (\"system\", \"당신은 개발자입니다.\") , \n",
    "     (\"human\", \"{input}\") ]\n",
    ")\n",
    "print(prompt)\n",
    "\n",
    "prompt_text = prompt.format(input=\"JavaScript는 무엇인가요? 자세하게 설명해주세요\")"
   ]
  },
  {
   "cell_type": "code",
   "execution_count": 13,
   "id": "eff33d46",
   "metadata": {},
   "outputs": [
    {
     "name": "stdout",
     "output_type": "stream",
     "text": [
      "client=<openai.resources.chat.completions.completions.Completions object at 0x000002116D13D580> async_client=<openai.resources.chat.completions.completions.AsyncCompletions object at 0x000002116CC02330> root_client=<openai.OpenAI object at 0x000002116D130C80> root_async_client=<openai.AsyncOpenAI object at 0x000002116D13DD90> model_name='meta-llama/llama-4-scout-17b-16e-instruct' temperature=0.7 model_kwargs={} openai_api_key=SecretStr('**********') openai_api_base='https://api.groq.com/openai/v1'\n"
     ]
    }
   ],
   "source": [
    "# Groq API를 사용하는 ChatOpenAI 인스턴스 생성\n",
    "llm = ChatOpenAI(\n",
    "    #api_key=OPENAI_API_KEY,\n",
    "    base_url=\"https://api.groq.com/openai/v1\",  # Groq API 엔드포인트\n",
    "    model=\"meta-llama/llama-4-scout-17b-16e-instruct\",\n",
    "    temperature=0.7\n",
    ")\n",
    "print(llm)"
   ]
  },
  {
   "cell_type": "code",
   "execution_count": 14,
   "id": "0c1a5303",
   "metadata": {},
   "outputs": [
    {
     "name": "stdout",
     "output_type": "stream",
     "text": [
      "<class 'langchain_core.messages.ai.AIMessage'>\n",
      "content='JavaScript는 웹 개발에서 널리 사용되는 프로그래밍 언어입니다. 웹 페이지에 대화형 기능을 추가하고 동적 콘텐츠를 표시하는 데 사용됩니다. JavaScript는 클라이언트 측 스크립팅 언어로서, 웹 브라우저에서 실행되며 서버와의 통신을 통해 데이터를 전송하거나 조작할 수 있습니다.\\n\\n### JavaScript의 역사\\n\\nJavaScript는 1995년 넷스케이프(Netscape)에서 개발되었습니다. 당시 넷스케이프는 자바(Java) 애플릿과 같은 기술을 사용하여 웹 페이지에 동적 기능을 추가하려고 했습니다. 그러나 자바 애플릿은 복잡하고 무거웠기 때문에 더 가볍고 쉬운 대안을 찾게 되었습니다. 이렇게 해서 Brendan Eich에 의해 단기간에 개발된 것이 JavaScript입니다.\\n\\n### 특징\\n\\n- **동적 타이핑**: JavaScript는 동적 타이핑 언어로, 변수의 타입을 선언할 필요가 없습니다. 이는 개발 속도를 빠르게 하지만, 런타임에 오류가 발생할 가능성을 높일 수도 있습니다.\\n- **객체 지향적**: 객체와 프로토타입을 기반으로 하는 객체 지향적 프로그래밍이 가능합니다.\\n- **함수형 프로그래밍 지원**: 함수형 프로그래밍 개념도 지원하여, 고차 함수, 클로저, 익명 함수 등을 사용할 수 있습니다.\\n- **클라이언트 측 실행**: 주로 클라이언트 측에서 실행되며, 서버로 요청을 보내지 않고도 웹 페이지에서 데이터를 조작할 수 있습니다.\\n- **비동기 프로그래밍**: 콜백, 프로미스, async/await 등을 통해 비동기 프로그래밍을 쉽게 할 수 있습니다.\\n\\n### 활용 분야\\n\\n- **웹 개발**: 웹 페이지의 클라이언트 측 로직을 구현하는 데 사용됩니다. DOM 조작, 이벤트 핸들링, AJAX 요청 등을 통해 동적인 웹 페이지를 만들 수 있습니다.\\n- **모바일 앱 개발**: PhoneGap과 같은 프레임워크를 통해 모바일 앱 개발에도 사용됩니다.\\n- **서버 측 개발**: Node.js를 통해 서버 측 개발도 가능합니다. Node.js는 JavaScript를 서버 측에서 실행할 수 있게 해주는 런타임 환경입니다.\\n- **데스크탑 애플리케이션**: Electron과 같은 프레임워크를 사용하여 데스크탑 애플리케이션 개발에도 활용됩니다.\\n\\n### JavaScript의 버전과 표준화\\n\\n- ECMAScript(ES): JavaScript는 공식적으로 ECMAScript(ES) 표준에 따라 정의됩니다. ECMAScript는 표준화된 스크립팅 언어이며, JavaScript는 이 표준을 따르는 언어 중 하나입니다.\\n- 버전: ECMAScript 버전은 매년 업데이트되며, 각 버전은 새로운 기능을 추가합니다. 예를 들어, ES6(2015)는 클래스, 프로미스, 화살표 함수 등 중요한 기능을 추가했습니다.\\n\\n### 도구와 생태계\\n\\n- **프레임워크와 라이브러리**: React, Angular, Vue.js와 같은 인기 있는 프레임워크와 라이브러리가 있습니다. 이들은 대규모 애플리케이션 개발을 더욱 쉽게 만들어 줍니다.\\n- **빌드 도구**: Webpack, Babel과 같은 빌드 도구를 통해 코드의 모듈화, 트랜스파일링, 최적화 등을 수행할 수 있습니다.\\n\\nJavaScript는 웹 개발의 핵심 언어로서, 현대 웹 애플리케이션 개발에서 없어서는 안 될 중요한 도구입니다. 또한, Node.js를 통해 서버 개발, 모바일 앱, 데스크탑 애플리케이션 등 다양한 분야로 그 사용 범위가 확장되고 있습니다.' additional_kwargs={'refusal': None} response_metadata={'token_usage': {'completion_tokens': 695, 'prompt_tokens': 30, 'total_tokens': 725, 'completion_tokens_details': None, 'prompt_tokens_details': None, 'queue_time': 0.320834054, 'prompt_time': 0.003217369, 'completion_time': 1.66238893, 'total_time': 1.665606299}, 'model_name': 'meta-llama/llama-4-scout-17b-16e-instruct', 'system_fingerprint': 'fp_37da608fc1', 'id': 'chatcmpl-40260979-b1f7-4322-9791-a5c097c3552b', 'service_tier': None, 'finish_reason': 'stop', 'logprobs': None} id='run--f58f2348-bf83-4661-b6c0-238c938469ce-0' usage_metadata={'input_tokens': 30, 'output_tokens': 695, 'total_tokens': 725, 'input_token_details': {}, 'output_token_details': {}}\n",
      "응답: JavaScript는 웹 개발에서 널리 사용되는 프로그래밍 언어입니다. 웹 페이지에 대화형 기능을 추가하고 동적 콘텐츠를 표시하는 데 사용됩니다. JavaScript는 클라이언트 측 스크립팅 언어로서, 웹 브라우저에서 실행되며 서버와의 통신을 통해 데이터를 전송하거나 조작할 수 있습니다.\n",
      "\n",
      "### JavaScript의 역사\n",
      "\n",
      "JavaScript는 1995년 넷스케이프(Netscape)에서 개발되었습니다. 당시 넷스케이프는 자바(Java) 애플릿과 같은 기술을 사용하여 웹 페이지에 동적 기능을 추가하려고 했습니다. 그러나 자바 애플릿은 복잡하고 무거웠기 때문에 더 가볍고 쉬운 대안을 찾게 되었습니다. 이렇게 해서 Brendan Eich에 의해 단기간에 개발된 것이 JavaScript입니다.\n",
      "\n",
      "### 특징\n",
      "\n",
      "- **동적 타이핑**: JavaScript는 동적 타이핑 언어로, 변수의 타입을 선언할 필요가 없습니다. 이는 개발 속도를 빠르게 하지만, 런타임에 오류가 발생할 가능성을 높일 수도 있습니다.\n",
      "- **객체 지향적**: 객체와 프로토타입을 기반으로 하는 객체 지향적 프로그래밍이 가능합니다.\n",
      "- **함수형 프로그래밍 지원**: 함수형 프로그래밍 개념도 지원하여, 고차 함수, 클로저, 익명 함수 등을 사용할 수 있습니다.\n",
      "- **클라이언트 측 실행**: 주로 클라이언트 측에서 실행되며, 서버로 요청을 보내지 않고도 웹 페이지에서 데이터를 조작할 수 있습니다.\n",
      "- **비동기 프로그래밍**: 콜백, 프로미스, async/await 등을 통해 비동기 프로그래밍을 쉽게 할 수 있습니다.\n",
      "\n",
      "### 활용 분야\n",
      "\n",
      "- **웹 개발**: 웹 페이지의 클라이언트 측 로직을 구현하는 데 사용됩니다. DOM 조작, 이벤트 핸들링, AJAX 요청 등을 통해 동적인 웹 페이지를 만들 수 있습니다.\n",
      "- **모바일 앱 개발**: PhoneGap과 같은 프레임워크를 통해 모바일 앱 개발에도 사용됩니다.\n",
      "- **서버 측 개발**: Node.js를 통해 서버 측 개발도 가능합니다. Node.js는 JavaScript를 서버 측에서 실행할 수 있게 해주는 런타임 환경입니다.\n",
      "- **데스크탑 애플리케이션**: Electron과 같은 프레임워크를 사용하여 데스크탑 애플리케이션 개발에도 활용됩니다.\n",
      "\n",
      "### JavaScript의 버전과 표준화\n",
      "\n",
      "- ECMAScript(ES): JavaScript는 공식적으로 ECMAScript(ES) 표준에 따라 정의됩니다. ECMAScript는 표준화된 스크립팅 언어이며, JavaScript는 이 표준을 따르는 언어 중 하나입니다.\n",
      "- 버전: ECMAScript 버전은 매년 업데이트되며, 각 버전은 새로운 기능을 추가합니다. 예를 들어, ES6(2015)는 클래스, 프로미스, 화살표 함수 등 중요한 기능을 추가했습니다.\n",
      "\n",
      "### 도구와 생태계\n",
      "\n",
      "- **프레임워크와 라이브러리**: React, Angular, Vue.js와 같은 인기 있는 프레임워크와 라이브러리가 있습니다. 이들은 대규모 애플리케이션 개발을 더욱 쉽게 만들어 줍니다.\n",
      "- **빌드 도구**: Webpack, Babel과 같은 빌드 도구를 통해 코드의 모듈화, 트랜스파일링, 최적화 등을 수행할 수 있습니다.\n",
      "\n",
      "JavaScript는 웹 개발의 핵심 언어로서, 현대 웹 애플리케이션 개발에서 없어서는 안 될 중요한 도구입니다. 또한, Node.js를 통해 서버 개발, 모바일 앱, 데스크탑 애플리케이션 등 다양한 분야로 그 사용 범위가 확장되고 있습니다.\n"
     ]
    }
   ],
   "source": [
    "try:\n",
    "    response = llm.invoke(prompt_text)\n",
    "    print(type(response))\n",
    "    print(response)\n",
    "    print(\"응답:\", response.content)\n",
    "except Exception as e:\n",
    "    print(f\"오류 발생: {e}\")"
   ]
  }
 ],
 "metadata": {
  "kernelspec": {
   "display_name": "langchain-basic-kGdHTiMZ-py3.12",
   "language": "python",
   "name": "python3"
  },
  "language_info": {
   "codemirror_mode": {
    "name": "ipython",
    "version": 3
   },
   "file_extension": ".py",
   "mimetype": "text/x-python",
   "name": "python",
   "nbconvert_exporter": "python",
   "pygments_lexer": "ipython3",
   "version": "3.12.7"
  }
 },
 "nbformat": 4,
 "nbformat_minor": 5
}
