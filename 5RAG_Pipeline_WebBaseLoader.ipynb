{
 "cells": [
  {
   "cell_type": "code",
   "execution_count": null,
   "id": "288ba1fa",
   "metadata": {},
   "outputs": [],
   "source": [
    "import os\n",
    "from dotenv import load_dotenv\n",
    "\n",
    "load_dotenv()\n",
    "OPENAI_API_KEY = os.getenv(\"OPENAI_API_KEY\")\n",
    "print(OPENAI_API_KEY[:2])"
   ]
  },
  {
   "cell_type": "code",
   "execution_count": null,
   "id": "30c3c2e7",
   "metadata": {},
   "outputs": [],
   "source": [
    "import os\n",
    "from langchain_community.document_loaders import WebBaseLoader\n",
    "\n",
    "# 웹 요청을 위한 USER_AGENT 환경 변수 설정 (필요한 경우)\n",
    "os.environ[\"USER_AGENT\"] = \"Mozilla/5.0 (Windows NT 10.0; Win64; x64) AppleWebKit/537.36 (KHTML, like Gecko) Chrome/120.0.0.0 Safari/537.36\"\n",
    "\n",
    "# 환경 변수 확인\n",
    "print(f\"현재 설정된 USER_AGENT: {os.environ.get('USER_AGENT')}\")\n",
    "\n",
    "# 웹페이지 URL 지정  https://ko.wikipedia.org/wiki/축구_경기_규칙\n",
    "url = 'https://ko.wikipedia.org/wiki/%EC%B6%95%EA%B5%AC_%EA%B2%BD%EA%B8%B0_%EA%B7%9C%EC%B9%99'\n",
    "\n",
    "# WebBaseLoader 초기화 및 데이터 로드\n",
    "loader = WebBaseLoader(url)\n",
    "docs = loader.load()\n",
    "\n",
    "# 로드된 문서 확인\n",
    "print(type(docs), len(docs))\n",
    "print(docs)\n",
    "print(type(docs[0]))  # <class 'langchain_core.documents.Document'>\n",
    "print(len(docs[0].page_content))\n",
    "print(docs[0].page_content[5000:5500])\n",
    "print(docs[0].metadata)"
   ]
  }
 ],
 "metadata": {
  "language_info": {
   "name": "python"
  }
 },
 "nbformat": 4,
 "nbformat_minor": 5
}
