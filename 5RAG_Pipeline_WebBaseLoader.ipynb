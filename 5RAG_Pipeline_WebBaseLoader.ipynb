{
 "cells": [
  {
   "cell_type": "code",
   "execution_count": null,
   "id": "288ba1fa",
   "metadata": {},
   "outputs": [],
   "source": [
    "import os\n",
    "from dotenv import load_dotenv\n",
    "\n",
    "load_dotenv()\n",
    "OPENAI_API_KEY = os.getenv(\"OPENAI_API_KEY\")\n",
    "print(OPENAI_API_KEY[:2])"
   ]
  },
  {
   "cell_type": "code",
   "execution_count": null,
   "id": "cc0a2c6d",
   "metadata": {},
   "outputs": [],
   "source": [
    "# poetry add bs4"
   ]
  },
  {
   "cell_type": "code",
   "execution_count": 3,
   "id": "30c3c2e7",
   "metadata": {},
   "outputs": [
    {
     "name": "stdout",
     "output_type": "stream",
     "text": [
      "현재 설정된 USER_AGENT: Mozilla/5.0 (Windows NT 10.0; Win64; x64) AppleWebKit/537.36 (KHTML, like Gecko) Chrome/120.0.0.0 Safari/537.36\n",
      "<class 'list'> 1\n",
      "<class 'langchain_core.documents.base.Document'>\n",
      "34666\n",
      "이(골 라인) : 최소 45m(50야드), 최대 90m(100야드)\n",
      "4. 국제 경기에서의 치수(Dimensions for International Matches)[원본 편집]\n",
      "길이(터치 라인) : 최소 100m(110야드), 최대 110m(120야드)\n",
      "길이(골 라인) : 최소 64m(70야드), 최대 75m(80야드)\n",
      "대회는 상기 차원 내에서 골 라인과 터치 라인의 길이를 결정할 수 있다.\n",
      "측정은 선이 둘러싸는 영역의 일부이므로 선 외부에서 이루어진다.\n",
      "페널티 마크는 마크 중앙에서 골 라인 뒤쪽 가장자리까지 측정된다\n",
      "5. 골 에어리어(The Goal Area)[원본 편집]\n",
      "각 골대 안쪽에서 5.5m(6야드) 떨어진 골 라인에 직각으로 두 개의 선이 그려진다. 이 선은 경기장까지 5.5m(6야드) 연장되며 골라인과 평행하게 그려진 선으로 연결된다. 이 라인과 골 라인으로 둘러싸인 영역이 골 에어리어이다.\n",
      "6. 페널티 에어리어(The Penalty Area)[원본 편집]\n",
      "각 골대 안쪽에\n",
      "{'source': 'https://ko.wikipedia.org/wiki/%EC%B6%95%EA%B5%AC_%EA%B2%BD%EA%B8%B0_%EA%B7%9C%EC%B9%99', 'title': '축구 경기 규칙 - 위키백과, 우리 모두의 백과사전', 'language': 'ko'}\n"
     ]
    }
   ],
   "source": [
    "import os\n",
    "from langchain_community.document_loaders import WebBaseLoader\n",
    "\n",
    "# 웹 요청을 위한 USER_AGENT 환경 변수 설정 (필요한 경우)\n",
    "os.environ[\"USER_AGENT\"] = \"Mozilla/5.0 (Windows NT 10.0; Win64; x64) AppleWebKit/537.36 (KHTML, like Gecko) Chrome/120.0.0.0 Safari/537.36\"\n",
    "\n",
    "# 환경 변수 확인\n",
    "print(f\"현재 설정된 USER_AGENT: {os.environ.get('USER_AGENT')}\")\n",
    "\n",
    "# 웹페이지 URL 지정  https://ko.wikipedia.org/wiki/축구_경기_규칙\n",
    "url = 'https://ko.wikipedia.org/wiki/%EC%B6%95%EA%B5%AC_%EA%B2%BD%EA%B8%B0_%EA%B7%9C%EC%B9%99'\n",
    "\n",
    "# WebBaseLoader 초기화 및 데이터 로드\n",
    "loader = WebBaseLoader(url)\n",
    "docs = loader.load()\n",
    "\n",
    "# 로드된 문서 확인\n",
    "print(type(docs), len(docs))\n",
    "#print(docs)\n",
    "print(type(docs[0]))  # <class 'langchain_core.documents.Document'>\n",
    "print(len(docs[0].page_content))\n",
    "print(docs[0].page_content[5000:5500])\n",
    "print(docs[0].metadata)"
   ]
  },
  {
   "cell_type": "code",
   "execution_count": 4,
   "id": "b1bb33e2",
   "metadata": {},
   "outputs": [
    {
     "name": "stdout",
     "output_type": "stream",
     "text": [
      "<class 'list'> 16\n",
      "<class 'langchain_core.documents.base.Document'>\n",
      "축구 경기 규칙 - 위키백과, 우리 \n",
      "경기는 주심과 참가한 두 팀이 상호 \n",
      "{'source': 'https://ko.wikipedia.org/wiki/%EC%B6%95%EA%B5%AC_%EA%B2%BD%EA%B8%B0_%EA%B7%9C%EC%B9%99', 'title': '축구 경기 규칙 - 위키백과, 우리 모두의 백과사전', 'language': 'ko'}\n"
     ]
    }
   ],
   "source": [
    "from langchain.text_splitter import RecursiveCharacterTextSplitter\n",
    "\n",
    "# 텍스트 분할기 설정\n",
    "text_splitter = RecursiveCharacterTextSplitter(chunk_size=3000, chunk_overlap=200)\n",
    "\n",
    "# 문서 분할\n",
    "splits = text_splitter.split_documents(docs)\n",
    "\n",
    "# 분할된 문서 확인\n",
    "print(type(splits), len(splits))  # 총 몇 개의 청크가 생성되었는지 확인\n",
    "print(type(splits[0])) # Document\n",
    "print(splits[0].page_content[:20])  # 첫 번째 청크의 일부 출력\n",
    "# 열번째 청크의 내용 출력\n",
    "print(splits[10].page_content[:20])\n",
    "# 열번째 청크의 메타데이터 출력\n",
    "print(splits[10].metadata)"
   ]
  },
  {
   "cell_type": "code",
   "execution_count": 5,
   "id": "4c5534ab",
   "metadata": {},
   "outputs": [
    {
     "name": "stdout",
     "output_type": "stream",
     "text": [
      "<class 'list'> 4\n",
      "2. 경기장 표시(Field Markings)[원본 편집]\n",
      "경기장은 직사각형이어야 하며 위험하지 않아야 하는 연속적인 선으로 표시되어야 한다. 위험하지 않은 경우 인공 경기장 재료를 자연 필드의 필드 표시에 사용할 수 있다. 이 선은 경계가 되는 영역에 속한다.\n",
      "경기장에는 규칙1에 명시된 라인만 표시되어야 한다. 인공 표면이 사용되는 경우, 다른 색이 있고 축구 라인과 명확하게 구별되는 다른 라인이 허용된다.\n",
      "두 개의 긴 경계선은 터치 라인이다. 두 개의 짧은 라인은 골 라인이다.\n",
      "경기장은 두 개의 터치 라인의 중간 지점을 연결하는 중간 선으로 두 부분으로 나뉜다.\n",
      "중앙 표시는 중간이라는 뜻이며. 반경이 9.15m(10야드)인 원이 그 주위에 표시된다.\n",
      "코너 호에서 골 라인과 터치 라인에 직각으로 9.15m(10야드) 경기장 밖에서 마크를 할 수 있다.\n",
      "모든 선은 너비가 같아야하며 12cm(5인치)를 넘지 않아야 한다. 골라인은 골 포스트 및 크로스바와 너비가 같아야 한다.\n",
      "경기장에서 승인되지 않은 마크일 경우, 선수는 비신사적 행동에 대해 주의를 기울여야 한다. 심판이 경기 중에 이것이 행해지는 것을 알아차리면, 선수는 경기 중, 볼이 플레이 아웃 될 때 주의를 받는다.\n",
      "3. 치수(Dimensions)[원본 편집]\n",
      "터치 라인은 골 라인보다 길어야 한다.\n",
      "길이(터치 라인) : 최소 90m(100야드), 최대 120m(130야드)\n",
      "길이(골 라인) : 최소 45m(50야드), 최대 90m(100야드)\n",
      "4. 국제 경기에서의 치수(Dimensions for International Matches)[원본 편집]\n",
      "길이(터치 라인) : 최소 100m(110야드), 최대 110m(120야드)\n",
      "길이(골 라인) : 최소 64m(70야드), 최대 75m(80야드)\n",
      "대회는 상기 차원 내에서 골 라인과 터치 라인의 길이를 결정할 수 있다.\n",
      "측정은 선이 둘러싸는 영역의 일부이므로 선 외부에서 이루어진다.\n",
      "페널티 마크는 마크 중앙에서 골 라인 뒤쪽 가장자리까지 측정된다\n",
      "5. 골 에어리어(The Goal Area)[원본 편집]\n",
      "각 골대 안쪽에서 5.5m(6야드) 떨어진 골 라인에 직각으로 두 개의 선이 그려진다. 이 선은 경기장까지 5.5m(6야드) 연장되며 골라인과 평행하게 그려진 선으로 연결된다. 이 라인과 골 라인으로 둘러싸인 영역이 골 에어리어이다.\n",
      "6. 페널티 에어리어(The Penalty Area)[원본 편집]\n",
      "각 골대 안쪽에서 16.5m(18야드) 떨어진 골 라인에 직각으로 두 개의 선이 그려진다. 이 선은 16.5m(18야드) 동안 경기장까지 확장되며 골 라인과 평행하게 그려진 선으로 연결된다. 이 라인과 골 라인으로 둘러싸인 영역이 페널티 에어리어이다.\n",
      "각 페널티 구역 내에서 골 포스트 사이의 중간 지점에서 11m(12 야드) 떨어진 곳에 페널티 마크가 있다.\n",
      "각 페널티 마크의 중심에서 반경이 9.15m(10야드)인 원호가 페널티 에어리어 외부에 그려진다.\n",
      "7. 코너 에어리어(The Corner Area)[원본 편집]\n",
      "코너 에어리어는 경기장 내부에 그려진 각 코너 깃대로부터 반경 1m (1yd)의 ¼원으로 정의된다.\n",
      "8. 깃발(Flagposts)[원본 편집]\n",
      "최소 1.5m(5피트) 높이의 깃대가 뾰족하지 않은 상단과 깃발이 각 모서리에 배치되어야 한다.\n",
      "깃대는 중간 선의 각 끝에 터치 라인에서 최소 1m(1야드) 떨어진 곳에 배치할 수 있다.\n",
      "9. 테크니컬 에어리어(The Technical Area) 에어리어는 아래에 설명된대로 팀 임원, 교체 선수 및 교체 선수를 위한 지정된 좌석 공간이 있는 경기장에서 진행되는 경기와 관련[원본 편집]\n",
      "테크니컬 에어리어는 지정된 좌석 영역의 양쪽에서 1m(1야드), 터치 라인에서 최대 1m(1야드)까지만 확장되어야 한다.\n",
      "영역을 정의하기 위해 표시를 사용해야 한다.\n",
      "테크니컬 에어리어를 점유할 수 있는 사람의 수는 대회 규칙에 의해 정의된다.\n",
      "테크니컬 에어리어의 거주자\n",
      "경기 규칙에 따라 경기 시작 전에 식별된다.\n",
      "책임감있게 행동해야 한다.\n",
      "특수한 상황을 제외하고는 제한 범위 내에 있어야 한다.(예시로, 부상당한 선수를 평가하기 위해 심판의 허가를 받아 경기장에 들어가는 물리치료사/의사)\n",
      "한 번에 한 사람만 테크니컬 에어리어에서 전술 지침을 전달할 권한이 있다.\n",
      "10. 골(Goals)[원본 편집]\n",
      "각 골 라인의 중앙에 골을 배치한다고말한다\n",
      "골은 코너 깃대에서 등거리에 있고 수평 크로스 바로 상단에 결합 된 두 개의 수직 기둥으로 구성된다. 골대와 크로스바는 승인 된 재료로 만들어져야 한다. 정사각형, 직사각형, 원형, 타원형 또는 이러한 형태의 조합이어야 하며 위험하지 않아야 한다.\n",
      "기둥 내부 사이의 거리는 7.32m(8야드)이고 크로스바의 하단 가장자리에서 지면까지의 거리는 2.44m(8피트)이다.\n",
      "골 라인에 대한 골 포스트의 위치는 그래픽과 일치해야 한다.\n",
      "골대와 크로스바는 흰색이어야 하며 너비와 깊이가 동일해야하며 12cm(5인치)를 초과해서는 안된다.\n",
      "크로스바가 변위되거나 파손되면 제자리에서 수리 또는 교체 될 때까지 플레이가 중지된다. 드롭된 볼로 플레이가 다시 시작된다. 수리할 수 없는 경우 경기를 포기해야 한다. 로프를 유연하거나 위험한 물질로 크로스바를 대체할 수 없다.\n",
      "그물은 골과 골 뒤에 있는 땅에 부착될 수 있다. 그들은 적절하게 지원되어야 하며 골키퍼를 방해해서는 안된다.\n",
      "안전수칙\n",
      "골(휴대용 골 포함)은 지면에 단단히 고정되어야 한다.\n",
      "할 수 있다\n"
     ]
    }
   ],
   "source": [
    "from langchain_community.vectorstores import FAISS  # 벡터 저장소 라이브러리\n",
    "from langchain_openai import OpenAIEmbeddings # OpenAI의 임베딩(Embedding) 모델\n",
    "\n",
    "# 1. FAISS 벡터 저장소 생성\n",
    "# - documents: 텍스트 데이터를 벡터화 하여 저장할 문서 리스트\n",
    "# - embedding: 문서를 벡터로 변환하는 OpenAI Embeddings 모델 사용\n",
    "vectorstore = FAISS.from_documents(documents=splits, embedding=OpenAIEmbeddings())\n",
    "\n",
    "# 2. 유사 문서 검색 (Similarity Search)\n",
    "# - \"경기장 표시에 대해서 설명해주세요.\"라는 쿼리에 대해,\n",
    "# - FAISS 벡터 저장소에서 가장 유사한 문서를 검색함.\n",
    "docs = vectorstore.similarity_search(\"경기장 표시에 대해서 설명해주세요.\")\n",
    "\n",
    "# 3. 검색된 문서의 타입과 개수 출력\n",
    "print(type(docs), len(docs))\n",
    "# 4. 검색된 첫 번째 문서 내용 출력\n",
    "print(docs[0].page_content)"
   ]
  },
  {
   "cell_type": "code",
   "execution_count": 6,
   "id": "7ec4cf50",
   "metadata": {},
   "outputs": [
    {
     "name": "stdout",
     "output_type": "stream",
     "text": [
      " 모델 응답:\n",
      "\n",
      "('경기장은 직사각형이어야 하며 위험하지 않아야 하는 연속적인 선으로 표시되어야 합니다. 경기장에는 규칙에 명시된 라인만 표시되어야 하며, '\n",
      " '인공 표면이 사용되는 경우 다른 색이 있고 축구 라인과 명확하게 구별되는 다른 라인이 허용됩니다. 두 개의 긴 경계선은 터치 라인이고, '\n",
      " '두 개의 짧은 라인은 골 라인입니다. 경기장은 두 개의 터치 라인의 중간 지점을 연결해야 합니다.')\n"
     ]
    }
   ],
   "source": [
    "from langchain_openai import ChatOpenAI  # OpenAI LLM(대화형 언어 모델)\n",
    "from langchain_core.prompts import ChatPromptTemplate  # 프롬프트 템플릿\n",
    "from langchain_core.runnables import RunnablePassthrough  # 입력을 그대로 전달하는 유틸리티\n",
    "from langchain_core.output_parsers import StrOutputParser  # LLM 응답을 문자열로 변환하는 파서\n",
    "from pprint import pprint\n",
    "\n",
    "# 검색 개수 제한 설정\n",
    "# - 벡터 저장소(vectorstore)에서 관련성이 높은 문서 최대 6개를 검색하도록 설정\n",
    "retriever = vectorstore.as_retriever(search_kwargs={\"k\": 6})  \n",
    "\n",
    "def format_docs(docs):\n",
    "    summaries = [f\"출처: {doc.metadata.get('source', '알 수 없음')}\\n\" + doc.page_content[:300] + \"...\" for doc in docs]\n",
    "    return \"\\n\\n\".join(summaries)    \n",
    "\n",
    "# 프롬프트 템플릿 설정\n",
    "# - 모델이 주어진 `context`(검색된 문서)만을 참고하여 질문에 답변하도록 유도하는 프롬프트 템플릿\n",
    "# - {context}: 검색된 문서 요약이 삽입될 자리\n",
    "# - {question}: 사용자의 질문이 삽입될 자리\n",
    "template = '''당신은 제공된 컨텍스트를 기반으로 질문에 답하는 AI 어시스턴트입니다. \n",
    "반드시 컨텍스트 내 정보를 활용하여 정확하고 신뢰할 수 있는 답변을 제공하세요.\n",
    "\n",
    "[컨텍스트]\n",
    "{context}\n",
    "\n",
    "[질문]\n",
    "{question}\n",
    "\n",
    "[답변]\n",
    "'''\n",
    "\n",
    "# - 위에서 정의한 템플릿을 사용하여 LangChain의 프롬프트 객체 생성\n",
    "prompt = ChatPromptTemplate.from_template(template)  \n",
    "\n",
    "# LLM 모델 설정\n",
    "# - OpenAI의 `gpt-3.5-turbo-0125` 모델 사용 (정확도를 높이기 위해 temperature=0 설정)\n",
    "model = ChatOpenAI(model='gpt-3.5-turbo-0125', temperature=0)\n",
    "\n",
    "# RAG 체인 설정\n",
    "rag_chain = (\n",
    "    {'context': retriever | format_docs, 'question': RunnablePassthrough()}  \n",
    "    # - `retriever`를 통해 검색된 문서를 `format_docs()` 함수로 가공하여 `context`로 전달\n",
    "    # - `question`은 변형 없이 그대로 전달\n",
    "    | prompt  # - 위에서 정의한 `ChatPromptTemplate`을 적용\n",
    "    | model   # - OpenAI GPT-3.5 모델을 사용해 응답 생성\n",
    "    | StrOutputParser()  # - 모델의 응답을 문자열로 변환\n",
    ")\n",
    "\n",
    "# 실행 (사용자 질문을 입력으로 받아 RAG 체인 실행)\n",
    "# - \"경기장 표시에 대해서 설명해주세요.\"라는 질문을 LLM에 전달하여 답변을 생성\n",
    "response = rag_chain.invoke(\"경기장 표시에 대해서 설명해주세요.\")  \n",
    "\n",
    "# 최종 응답 출력\n",
    "print(f\" 모델 응답:\\n\")\n",
    "pprint(response)"
   ]
  }
 ],
 "metadata": {
  "kernelspec": {
   "display_name": "langchain-basic-kGdHTiMZ-py3.12",
   "language": "python",
   "name": "python3"
  },
  "language_info": {
   "codemirror_mode": {
    "name": "ipython",
    "version": 3
   },
   "file_extension": ".py",
   "mimetype": "text/x-python",
   "name": "python",
   "nbconvert_exporter": "python",
   "pygments_lexer": "ipython3",
   "version": "3.12.7"
  }
 },
 "nbformat": 4,
 "nbformat_minor": 5
}
